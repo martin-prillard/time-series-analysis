{
 "cells": [
  {
   "cell_type": "markdown",
   "metadata": {},
   "source": [
    "## Partie 1"
   ]
  },
  {
   "cell_type": "code",
   "execution_count": 1,
   "metadata": {
    "collapsed": false
   },
   "outputs": [],
   "source": [
    "# coding: utf8\n",
    "# IMPORTATION DES PACKAGES PYTHON\n",
    "\n",
    "import pandas as pd\n",
    "import numpy as np\n",
    "import matplotlib.pyplot as plt\n",
    "\n",
    "from scipy import stats\n",
    "import statsmodels.api as sm\n",
    "from scipy.stats import norm\n",
    "import statsmodels.formula.api as smf\n",
    "from statsmodels.sandbox.regression.predstd import wls_prediction_std\n",
    "\n",
    "from pysal.common import *\n",
    "\n",
    "import numpy as np\n",
    "import pysal\n",
    "import diagnostics\n",
    "from pysal.spreg.ols import BaseOLS as OLS\n",
    "\n",
    "import pysal.spreg as pyspreg\n",
    "\n",
    "% matplotlib inline"
   ]
  },
  {
   "cell_type": "markdown",
   "metadata": {},
   "source": [
    "> ### 1. Lire le fichier mroz.txt. Ne sélectionner que les observations pour lesquelles la variable wage est strictement positive."
   ]
  },
  {
   "cell_type": "code",
   "execution_count": 2,
   "metadata": {
    "collapsed": false
   },
   "outputs": [],
   "source": [
    "DF_raw = pd.read_csv('mroz.raw.csv', sep=';', header = None,  encoding = 'utf-8')\n",
    "DF_raw.columns = ['inlf','hours','kidslt6','kidsge6','age','educ','wage','repwage','hushrs','husage','huseduc','huswage','faminc','mtr',\n",
    "                  'motheduc','fatheduc','unem','city','exper','nwifeinc','lwage','expersq'] "
   ]
  },
  {
   "cell_type": "code",
   "execution_count": 3,
   "metadata": {
    "collapsed": false
   },
   "outputs": [
    {
     "name": "stdout",
     "output_type": "stream",
     "text": [
      "428 observations après filtrage\n",
      "\n",
      "**** Illustration d une des obervations ****\n",
      "inlf               1\n",
      "hours           1610\n",
      "kidslt6            1\n",
      "kidsge6            0\n",
      "age               32\n",
      "educ              12\n",
      "wage           3.354\n",
      "repwage         2.65\n",
      "hushrs          2708\n",
      "husage            34\n",
      "huseduc           12\n",
      "huswage       4.0288\n",
      "faminc         16310\n",
      "mtr           0.7215\n",
      "motheduc          12\n",
      "fatheduc           7\n",
      "unem               5\n",
      "city               0\n",
      "exper             14\n",
      "nwifeinc    10.91006\n",
      "lwage       1.210154\n",
      "expersq          196\n",
      "Name: 0, dtype: object\n"
     ]
    }
   ],
   "source": [
    "DF = DF_raw\n",
    "# Prétraitement des valeurs nulles pour wages\n",
    "DF['wage'] = DF['wage'].replace('.', 0.0).astype(float)\n",
    "\n",
    "# Sélection des observations avec des revenus strictement positifs\n",
    "DF = DF[DF['wage']>0]\n",
    "print str(DF.shape[0])+\" observations après filtrage\"\n",
    "print '\\n**** Illustration d une des obervations ****'\n",
    "print DF.iloc[0]"
   ]
  },
  {
   "cell_type": "markdown",
   "metadata": {},
   "source": [
    "> ### 2. Faire les statistiques descriptives du salaire, de l’age et de l’éducation pour l’ensemble des femmes puis, pour les femmes dont le salaire du mari est supérieure à la médiane de l’échantillon puis, pour les femmes dont le salaire du mari est inférieur à la médiane de l’échantillon"
   ]
  },
  {
   "cell_type": "code",
   "execution_count": 4,
   "metadata": {
    "collapsed": true
   },
   "outputs": [],
   "source": [
    "DF_high = DF[DF['huswage']>DF['huswage'].median()]\n",
    "DF_low = DF[DF['huswage']<=DF['huswage'].median()]"
   ]
  },
  {
   "cell_type": "code",
   "execution_count": 5,
   "metadata": {
    "collapsed": false
   },
   "outputs": [],
   "source": [
    "# Creation d'une fonction d'affichage des 3 distributions (salaire, age et éducation), pour chacune des 3 populationsconsidérées\n",
    "def samples_distribution(df, name):\n",
    "    distrib = pd.DataFrame()\n",
    "    transition = pd.DataFrame(['________________'], index = ['___________________'])\n",
    "    wages = pd.DataFrame(['*****************'], index = ['*******WAGES******'])\n",
    "    age = pd.DataFrame(['*****************'], index = ['********AGE********'])\n",
    "    education = pd.DataFrame(['*****************'], index = ['*****EDUCATION*****'])\n",
    "    \n",
    "    distrib = pd.concat([transition,\n",
    "                         wages,\n",
    "                         df['wage'].describe(),\n",
    "                         transition,\n",
    "                         age,\n",
    "                         df['age'].describe(),\n",
    "                         transition,\n",
    "                         education,\n",
    "                         df['educ'].describe(),\n",
    "                         transition])\n",
    "    distrib.columns = [name]\n",
    "    return distrib"
   ]
  },
  {
   "cell_type": "code",
   "execution_count": 6,
   "metadata": {
    "collapsed": false
   },
   "outputs": [
    {
     "name": "stdout",
     "output_type": "stream",
     "text": [
      "TOTAL POPULATION : 428 femmes\n",
      "POPULATION HIGH : FEMMES DONT LE SALAIRE DU MARI EST SUPERIEUR A LA MEDIANE DE L_ECHANTILLON (214 femmes)\n",
      "POPULATION LOW : FEMMES DONT LE SALAIRE DU MARI EST INFERIEUR A LA MEDIANE DE L_ECHANTILLON (214 femmes)\n",
      "\n",
      "                      TOTAL POPULATION    POPULATION HIGH     POPULATION LOW\n",
      "___________________   ________________   ________________   ________________\n",
      "*******WAGES******   *****************  *****************  *****************\n",
      "count                              428                214                214\n",
      "mean                          4.177682           4.896822           3.458541\n",
      "std                           3.310282           4.041606           2.143274\n",
      "min                             0.1282             0.1616             0.1282\n",
      "25%                             2.2626            2.51385           2.117275\n",
      "50%                             3.4819             3.8464             2.9718\n",
      "75%                            4.97075           5.854125             4.3938\n",
      "max                                 25                 25             18.267\n",
      "___________________   ________________   ________________   ________________\n",
      "********AGE********  *****************  *****************  *****************\n",
      "count                              428                214                214\n",
      "mean                          41.97196            42.2757           41.66822\n",
      "std                           7.721084           7.388843           8.045482\n",
      "min                                 30                 30                 30\n",
      "25%                                 35                 36                 35\n",
      "50%                                 42                 43                 41\n",
      "75%                              47.25                 48                 47\n",
      "max                                 60                 59                 60\n",
      "___________________   ________________   ________________   ________________\n",
      "*****EDUCATION*****  *****************  *****************  *****************\n",
      "count                              428                214                214\n",
      "mean                          12.65888           13.24299           12.07477\n",
      "std                           2.285376           2.359045             2.0542\n",
      "min                                  5                  5                  6\n",
      "25%                                 12                 12                 12\n",
      "50%                                 12                 12                 12\n",
      "75%                                 14                 16                 12\n",
      "max                                 17                 17                 17\n",
      "___________________   ________________   ________________   ________________\n"
     ]
    }
   ],
   "source": [
    "print 'TOTAL POPULATION : 428 femmes' \n",
    "print 'POPULATION HIGH : FEMMES DONT LE SALAIRE DU MARI EST SUPERIEUR A LA MEDIANE DE L_ECHANTILLON ('+str(DF_high.shape[0])+' femmes)'\n",
    "print 'POPULATION LOW : FEMMES DONT LE SALAIRE DU MARI EST INFERIEUR A LA MEDIANE DE L_ECHANTILLON ('+str(DF_high.shape[0])+' femmes)\\n'\n",
    "\n",
    "All_distrib = pd.concat([samples_distribution(DF,'TOTAL POPULATION'),\n",
    "                         samples_distribution(DF_high,'POPULATION HIGH'),\n",
    "                         samples_distribution(DF_low,'POPULATION LOW')], axis = 1)\n",
    "print All_distrib\n"
   ]
  },
  {
   "cell_type": "markdown",
   "metadata": {},
   "source": [
    "> ### 3. Faire l'histogramme de la variable wage. Calculer le log de wage et faire l'histogramme. Comparez les deux histogrammes et commentez"
   ]
  },
  {
   "cell_type": "code",
   "execution_count": 7,
   "metadata": {
    "collapsed": false
   },
   "outputs": [
    {
     "data": {
      "text/plain": [
       "<matplotlib.text.Text at 0x10c085090>"
      ]
     },
     "execution_count": 7,
     "metadata": {},
     "output_type": "execute_result"
    },
    {
     "data": {
      "image/png": "[encoded data removed]",
      "text/plain": [
       "<matplotlib.figure.Figure at 0x1065af850>"
      ]
     },
     "metadata": {},
     "output_type": "display_data"
    },
    {
     "data": {
      "image/png": "[encoded data removed]",
      "text/plain": [
       "<matplotlib.figure.Figure at 0x10c03ed10>"
      ]
     },
     "metadata": {},
     "output_type": "display_data"
    }
   ],
   "source": [
    "plt.figure(1)\n",
    "a = plt.hist(DF_low['wage'], 25, normed=1, facecolor='g', alpha=0.75)\n",
    "plt.title('Wage')\n",
    "plt.figure(2)\n",
    "b = plt.hist(np.log(DF_low['wage']), 25, normed=1, facecolor='g', alpha=0.75)\n",
    "plt.title('Log_wage')\n",
    "\n",
    "# TODO : Afficher les titres des graphiques"
   ]
  },
  {
   "cell_type": "markdown",
   "metadata": {},
   "source": [
    "*** Commentaire :  le passage au logarithme permet de se rapprocher d'une distribution gaussienne ***"
   ]
  },
  {
   "cell_type": "markdown",
   "metadata": {},
   "source": [
    "> ### 4. Calculer les corrélations motheduc et fatheduc. Commentez. Il y a-t-il un problème de multi- collinéarité si l'on utilise ces variables comme variables explicatives ? S'agit-il d'un effet \"toute chose étant égale par ailleurs ?"
   ]
  },
  {
   "cell_type": "code",
   "execution_count": 8,
   "metadata": {
    "collapsed": false
   },
   "outputs": [
    {
     "name": "stdout",
     "output_type": "stream",
     "text": [
      "Corrélation des variables 'motheduc' et 'fatheduc' : 0.554063218431\n"
     ]
    }
   ],
   "source": [
    "print \"Corrélation des variables 'motheduc' et 'fatheduc' : \"+str(np.corrcoef(DF['motheduc'], DF['fatheduc'])[0][1])"
   ]
  },
  {
   "cell_type": "markdown",
   "metadata": {},
   "source": [
    "***Les 2 variables 'motheduc' et 'fatheduc' sont faiblement corrélées (< 80 %). On n'aura donc a priori pas de problème de multicolinéarité si on utilise les deux comme variables explicatives (pas de problème de non-inversibilité de matrice)***"
   ]
  },
  {
   "cell_type": "markdown",
   "metadata": {},
   "source": [
    "> ### 5.\tFaites un graphique en nuage de point entre wage et educ, wage et exper, wage et fatheduc. Commentez. S'agit-il d'un effet \"toute chose étant égale par ailleurs ?\""
   ]
  },
  {
   "cell_type": "code",
   "execution_count": 9,
   "metadata": {
    "collapsed": false
   },
   "outputs": [
    {
     "data": {
      "text/plain": [
       "<matplotlib.text.Text at 0x10c412850>"
      ]
     },
     "execution_count": 9,
     "metadata": {},
     "output_type": "execute_result"
    },
    {
     "data": {
      "image/png": "[encoded data removed]",
      "text/plain": [
       "<matplotlib.figure.Figure at 0x10c3bb950>"
      ]
     },
     "metadata": {},
     "output_type": "display_data"
    },
    {
     "data": {
      "image/png": "[encoded data removed]",
      "text/plain": [
       "<matplotlib.figure.Figure at 0x10c13c7d0>"
      ]
     },
     "metadata": {},
     "output_type": "display_data"
    },
    {
     "data": {
      "image/png": "[encoded data removed]",
      "text/plain": [
       "<matplotlib.figure.Figure at 0x10c5355d0>"
      ]
     },
     "metadata": {},
     "output_type": "display_data"
    }
   ],
   "source": [
    "# Wage - Educ\n",
    "plt.figure(1)\n",
    "plt.scatter(DF['wage'],DF['educ'])\n",
    "plt.xlabel('wage')\n",
    "plt.ylabel('educ')\n",
    "\n",
    "# Wage - Exper\n",
    "plt.figure(2)\n",
    "plt.scatter(DF['wage'],DF['exper'])\n",
    "plt.xlabel('wage')\n",
    "plt.ylabel('exper')\n",
    "\n",
    "# Wage - fatheduc\n",
    "plt.figure(3)\n",
    "plt.scatter(DF['wage'],DF['fatheduc'])\n",
    "plt.xlabel('wage')\n",
    "plt.ylabel('fatheduc')"
   ]
  },
  {
   "cell_type": "markdown",
   "metadata": {},
   "source": [
    "***Commentaires :***\n",
    "\n",
    "*** 1. On constate que les variables d'éducation varient de manière discrètes ( ce qui explique les graphiques sous forme de 'lignes')***\n",
    "\n",
    "***2. Graphe WAGE / EDUC : Il semble être possible de régresser linéairement le salaire par l'éducation (trouver une droite qui approxime l'espérance de salaire en fonction du niveau d'éducation).***<br>\n",
    "***Cependant, nous avons un phénomène d'hétéroscédasticité : la variance du revenu dépend fortement du nombre d'années d'expériences: ***\n",
    "- pour une expérience faible -> salaires faibles, avec une faible dispersion\n",
    "- pour une expérience élevée -> forte dispersion  de salaires\n",
    "\n",
    "***3. Graphes WAGE / EXPERIENCE et WAGE / FATHEDUC : Pas évident de dire quelque chose pour ces graphiques ***\n",
    "\n",
    "*** 4. L'effet observé n'est pas 'toutes choses égales par ailleurs'. En effet, on ne regarde ici les variables que deux à deux, mais entre deux observations les valeurs des variables non visualisées peuvent être différentes ***"
   ]
  },
  {
   "cell_type": "markdown",
   "metadata": {},
   "source": [
    "> ### 6.\tQuelle est l'hypothèse fondamentale qui garantit des estimateurs non biaisés ? Expliquer le biais de variable omise"
   ]
  },
  {
   "cell_type": "markdown",
   "metadata": {
    "collapsed": false
   },
   "source": [
    "***L'hypothèse fondamentale qui garantit des estimateurs non-biaisés est la non corrélation entre les variables observées et les variables non-observées.***\n",
    "\n",
    "***En effet, on peut montrer que, si on oublie d’inclure une variable explicative qui est corrélée avec une ou plusieurs autres variables explicatives, nous introduisons un biais dans l’estimation de nos paramètres. (l'esspérance de l'erreur sur l'estimation du paramètre dépend d'un terme croisé entre la variable oubliée et les variables avec lesquelles elle est corrélée).***\n",
    "\n",
    "***Ce cas particulier est appelé : biais de variables omises.***"
   ]
  },
  {
   "cell_type": "markdown",
   "metadata": {},
   "source": [
    "# > ### 7.\tFaire la régression de wage en utilisant les variables explicatives un constante, city, educ, exper, nwifeinc, kidslt6, kidsgt6. Commentez l'histogramme des résidus. "
   ]
  },
  {
   "cell_type": "code",
   "execution_count": 10,
   "metadata": {
    "collapsed": false
   },
   "outputs": [
    {
     "name": "stdout",
     "output_type": "stream",
     "text": [
      "                            OLS Regression Results                            \n",
      "==============================================================================\n",
      "Dep. Variable:                   wage   R-squared:                       0.127\n",
      "Model:                            OLS   Adj. R-squared:                  0.115\n",
      "Method:                 Least Squares   F-statistic:                     10.23\n",
      "Date:                Sun, 10 May 2015   Prob (F-statistic):           1.41e-10\n",
      "Time:                        19:03:15   Log-Likelihood:                -1090.0\n",
      "No. Observations:                 428   AIC:                             2194.\n",
      "Df Residuals:                     421   BIC:                             2222.\n",
      "Df Model:                           6                                         \n",
      "Covariance Type:            nonrobust                                         \n",
      "==============================================================================\n",
      "                 coef    std err          t      P>|t|      [95.0% Conf. Int.]\n",
      "------------------------------------------------------------------------------\n",
      "Intercept     -2.4035      0.963     -2.495      0.013        -4.297    -0.510\n",
      "city           0.3698      0.327      1.132      0.258        -0.272     1.012\n",
      "educ           0.4600      0.070      6.546      0.000         0.322     0.598\n",
      "exper          0.0238      0.021      1.141      0.255        -0.017     0.065\n",
      "nwifeinc       0.0152      0.015      0.984      0.326        -0.015     0.046\n",
      "kidslt6        0.0362      0.397      0.091      0.927        -0.744     0.816\n",
      "kidsge6       -0.0619      0.125     -0.494      0.622        -0.308     0.185\n",
      "==============================================================================\n",
      "Omnibus:                      345.825   Durbin-Watson:                   2.056\n",
      "Prob(Omnibus):                  0.000   Jarque-Bera (JB):             6499.375\n",
      "Skew:                           3.389   Prob(JB):                         0.00\n",
      "Kurtosis:                      20.847   Cond. No.                         178.\n",
      "==============================================================================\n",
      "\n",
      "Warnings:\n",
      "[1] Standard Errors assume that the covariance matrix of the errors is correctly specified.\n",
      "\n",
      "\n",
      "SSR:  4083.81356035\n"
     ]
    }
   ],
   "source": [
    "results = smf.ols(\"wage ~ city + educ + exper + nwifeinc + kidslt6 + kidsge6\", data = DF).fit()\n",
    "print(results.summary())\n",
    "print ('\\n')\n",
    "print 'SSR: ', results.ssr"
   ]
  },
  {
   "cell_type": "code",
   "execution_count": 11,
   "metadata": {
    "collapsed": false
   },
   "outputs": [
    {
     "data": {
      "text/plain": [
       "<matplotlib.text.Text at 0x10ca55550>"
      ]
     },
     "execution_count": 11,
     "metadata": {},
     "output_type": "execute_result"
    },
    {
     "data": {
      "image/png": "[encoded data removed]",
      "text/plain": [
       "<matplotlib.figure.Figure at 0x10ca191d0>"
      ]
     },
     "metadata": {},
     "output_type": "display_data"
    }
   ],
   "source": [
    "# Plot de l'histogramme des résidus\n",
    "res = plt.hist(results.resid, 40, normed=1, facecolor='g', alpha=0.75)\n",
    "plt.title('Residus de regression wage \\n')"
   ]
  },
  {
   "cell_type": "markdown",
   "metadata": {},
   "source": [
    "***Commentaire :  On constate une non-normalité des résidus de régression (distribution avec une queue trop épaisse)\n",
    "Les estimateurs obtenus par la méthode des moindres carrés ne sont donc pas optimaux.***\n",
    "***D'autre part, dans ce contexte, les tests et calculs de variance ou d'intervalles de confiance ou de prédiction sont généralement faux.***\n",
    "***Les résidus étant plus dispersés qu'une loi normale, on ne peut pas ignorer ces problèmes.***"
   ]
  },
  {
   "cell_type": "markdown",
   "metadata": {},
   "source": [
    "> ### 8.\tFaire la régression de lwage sur une constante, city, educ, exper, nwifeinc, kidslt6, kidsgt6. Commentez l’histogramme des résidus."
   ]
  },
  {
   "cell_type": "code",
   "execution_count": 14,
   "metadata": {
    "collapsed": false
   },
   "outputs": [
    {
     "name": "stdout",
     "output_type": "stream",
     "text": [
      "Regression parameters\n",
      "\n",
      "                            OLS Regression Results                            \n",
      "==============================================================================\n",
      "Dep. Variable:               log_wage   R-squared:                       0.156\n",
      "Model:                            OLS   Adj. R-squared:                  0.144\n",
      "Method:                 Least Squares   F-statistic:                     12.92\n",
      "Date:                Sun, 10 May 2015   Prob (F-statistic):           2.00e-13\n",
      "Time:                        19:07:51   Log-Likelihood:                -431.92\n",
      "No. Observations:                 428   AIC:                             877.8\n",
      "Df Residuals:                     421   BIC:                             906.3\n",
      "Df Model:                           6                                         \n",
      "Covariance Type:            nonrobust                                         \n",
      "==============================================================================\n",
      "                 coef    std err          t      P>|t|      [95.0% Conf. Int.]\n",
      "------------------------------------------------------------------------------\n",
      "Intercept     -0.3990      0.207     -1.927      0.055        -0.806     0.008\n",
      "city           0.0353      0.070      0.503      0.616        -0.103     0.173\n",
      "educ           0.1022      0.015      6.771      0.000         0.073     0.132\n",
      "exper          0.0155      0.004      3.452      0.001         0.007     0.024\n",
      "nwifeinc       0.0049      0.003      1.466      0.143        -0.002     0.011\n",
      "kidslt6       -0.0453      0.085     -0.531      0.596        -0.213     0.122\n",
      "kidsge6       -0.0117      0.027     -0.434      0.664        -0.065     0.041\n",
      "==============================================================================\n",
      "Omnibus:                       79.542   Durbin-Watson:                   1.979\n",
      "Prob(Omnibus):                  0.000   Jarque-Bera (JB):              287.193\n",
      "Skew:                          -0.795   Prob(JB):                     4.33e-63\n",
      "Kurtosis:                       6.685   Cond. No.                         178.\n",
      "==============================================================================\n",
      "\n",
      "Warnings:\n",
      "[1] Standard Errors assume that the covariance matrix of the errors is correctly specified.\n",
      "\n",
      "\n",
      "SSR:  188.589973194\n"
     ]
    }
   ],
   "source": [
    "DF =  DF.drop(['log_wage'],axis=1)\n",
    "DF['log_wage']=DF['wage'].apply(lambda x : np.log(x))\n",
    "\n",
    "results_log_wage = smf.ols(\"log_wage ~ city + educ + exper + nwifeinc + kidslt6 + kidsge6\", data = DF).fit()\n",
    "print ('Regression parameters\\n')\n",
    "print(results_log_wage.summary())\n",
    "\n",
    "print ('\\n')\n",
    "print 'SSR: ', results_log_wage.ssr"
   ]
  },
  {
   "cell_type": "code",
   "execution_count": 15,
   "metadata": {
    "collapsed": false
   },
   "outputs": [
    {
     "data": {
      "image/png": "[encoded data removed]",
      "text/plain": [
       "<matplotlib.figure.Figure at 0x10c48afd0>"
      ]
     },
     "metadata": {},
     "output_type": "display_data"
    }
   ],
   "source": [
    "# Plot des résidus\n",
    "plt.figure(1)\n",
    "res = plt.hist(results_log_wage.resid, 40, normed=1, facecolor='g', alpha=0.75)"
   ]
  },
  {
   "cell_type": "markdown",
   "metadata": {},
   "source": [
    "***Commentaire :***\n",
    "\n",
    "***Le passage au log permet de rapprocher la distribution des résidus d'une loi normale***\n",
    "*** La distribution des résidus étant visiblement 'inclue dans une gaussienne'*** ***, et le nombre d'observation étant significatif, on pourra réaliser les tests et calculs d'intervalles de confiance à partir de cette régression.***"
   ]
  },
  {
   "cell_type": "markdown",
   "metadata": {},
   "source": [
    "> ### 9.\tTester l'hypothèse de non significativité de exper avec un seuil de significativité de 1%, 5% et 10% (test alternatif des deux côtés). Commentez les p-values"
   ]
  },
  {
   "cell_type": "markdown",
   "metadata": {},
   "source": [
    "*** On cherche à tester que le coefficient relatif à l'expérience est nul. Il s'agit donc d'un test de student, avec une hypothèse H0 : 'le coefficient relatif à l'expérience est nul' ***"
   ]
  },
  {
   "cell_type": "code",
   "execution_count": 16,
   "metadata": {
    "collapsed": false
   },
   "outputs": [
    {
     "name": "stdout",
     "output_type": "stream",
     "text": [
      "** coefficients de régression de log_wage associé à exper (rappel) **\n",
      "0.0154878708067\n",
      "\n",
      " ** Test de la non-significativité du coefficient **\n",
      "\n",
      "Resultat du test de Student : 3.45171805756\n",
      "p-Value : 0.000613365572396\n"
     ]
    }
   ],
   "source": [
    "print \"** coefficients de régression de log_wage associé à exper (rappel) **\"\n",
    "print results_log_wage.params['exper']\n",
    "\n",
    "print \"\\n ** Test de la non-significativité du coefficient **\\n\"\n",
    "# Calcul de la statistique de Student associée au coefficient de l'experience\n",
    "student_test = results_log_wage.params['exper']/ results_log_wage.bse['exper']\n",
    "print 'Resultat du test de Student : '+str(student_test)\n",
    "student_law = stats.t(421)\n",
    "p_value = student_law.cdf(-student_test)+ 1 - student_law.cdf(student_test)\n",
    "print 'p-Value : '+str(p_value)\n",
    "\n",
    "# Autre méthode (calcul direct par Python)\n",
    "#print results_log_wage.pvalues['exper']"
   ]
  },
  {
   "cell_type": "markdown",
   "metadata": {},
   "source": [
    "*** Commentaire : ***<br>\n",
    "*** On obtient une p-value de ~ 6.1e-4. Cela nous conduit donc à rejeter l'hypothèse de non-significativité de l'expérience, et cela pour un test à 1%, 5% ou 10%. (la p-value est inférieure à ces 3 seuils)***"
   ]
  },
  {
   "cell_type": "markdown",
   "metadata": {},
   "source": [
    "> ### 9bis - Tester l’hypothèse que le coefficient associé à educ est égal à 10% avec un seuil de significativité de 5% (test à alternatif des deux côtés)"
   ]
  },
  {
   "cell_type": "markdown",
   "metadata": {},
   "source": [
    "*** On réalise donc un test de Student sur le coefficient associé à educ, avec l'hypothèse nulle H0 : 'le coefficient est égal à 0.1' ***"
   ]
  },
  {
   "cell_type": "code",
   "execution_count": 17,
   "metadata": {
    "collapsed": false
   },
   "outputs": [
    {
     "name": "stdout",
     "output_type": "stream",
     "text": [
      "** Test de Student avec H0 : 'le coefficient associé à educ = 0.1 **\n",
      "p-value : 0.88176227807\n"
     ]
    }
   ],
   "source": [
    "print \"** Test de Student avec H0 : 'le coefficient associé à educ = 0.1 **\"\n",
    "print \"p-value : \"+str(results_log_wage.t_test(\"educ = 0.1\").pvalue)"
   ]
  },
  {
   "cell_type": "markdown",
   "metadata": {},
   "source": [
    "*** On obtient une p-value d'environ 88%. On accepte donc  à 1%, 5% ou 10% l'hypothèse que le coefficient associé à educ est égal à 10%. ***"
   ]
  },
  {
   "cell_type": "markdown",
   "metadata": {},
   "source": [
    "> ### 10.\tDe combien augmente wage avec 10 années d’expérience ?"
   ]
  },
  {
   "cell_type": "code",
   "execution_count": 18,
   "metadata": {
    "collapsed": false
   },
   "outputs": [
    {
     "name": "stdout",
     "output_type": "stream",
     "text": [
      "0.154878708067\n"
     ]
    }
   ],
   "source": [
    "print results_log_wage.params.exper * 10"
   ]
  },
  {
   "cell_type": "markdown",
   "metadata": {},
   "source": [
    "*** Lorsque l'expérience augmente de 10 année, Wage augmente 10 * coeff(exper) %.\n",
    "On trouve une augmentation de 15,5% ***"
   ]
  },
  {
   "cell_type": "markdown",
   "metadata": {},
   "source": [
    "> ### 11.\tTester l’égalité des coefficients associés aux variables kidsgt6 et kidslt6. Interprétez."
   ]
  },
  {
   "cell_type": "code",
   "execution_count": 19,
   "metadata": {
    "collapsed": false
   },
   "outputs": [
    {
     "name": "stdout",
     "output_type": "stream",
     "text": [
      "** Test de Fischer (H0 : coeff(kidslt6) = coeff(kidsge6)) **\n",
      "\n",
      "p-value : 0.710268070738\n"
     ]
    }
   ],
   "source": [
    "# Test de Fischer\n",
    "constraint = \"kidslt6 = kidsge6\"\n",
    "#print results_log_wage.f_test(constraint)\n",
    "print \"** Test de Fischer (H0 : coeff(kidslt6) = coeff(kidsge6)) **\\n\"\n",
    "#print  \"Valeur de la statistique de Fischer : \" +str(results_log_wage.f_test(constraint).fvalue[0][0])\n",
    "\n",
    "print  'p-value : ' + str(results_log_wage.f_test(constraint).pvalue)"
   ]
  },
  {
   "cell_type": "markdown",
   "metadata": {},
   "source": [
    "*** La p-value est de 71 %. On accepte à 5% l'hypothèse H0 d'égalité des coefficients associés aux variables kidsgt6 et kidslt6.***\n",
    "\n",
    "\n",
    "*** Une autre méthode pour tester l'hypothèse consiste à réaliser un changement de variable et de faire un test de Student : ***\n",
    "- on pose :Theta = coeff(kidslt6) - coeff(kidsge6)\n",
    "- on effectue un changement de variable kidsge6 <-(kidsge6+kidslt6)\n",
    "- on test la nullité du coefficient de regression theta, associé à kidslt6 -> voir ci-dessous ***"
   ]
  },
  {
   "cell_type": "code",
   "execution_count": 22,
   "metadata": {
    "collapsed": false
   },
   "outputs": [
    {
     "name": "stdout",
     "output_type": "stream",
     "text": [
      "** Test de Student avec changement de variables (hypothèses : coeff(kidslt6) = coeff(kidsge6)) **\n",
      "\n",
      "P_Value : 0.710268070738\n"
     ]
    }
   ],
   "source": [
    "#DF =  DF.drop(['kidslt6_kidsge6'],axis=1)\n",
    "DF['kidslt6_kidsge6']=DF['kidslt6']+DF['kidsge6']\n",
    "\n",
    "results_log_wage_2 = smf.ols(\"log_wage ~ city + educ + exper + nwifeinc + kidslt6 + kidslt6_kidsge6\", data = DF).fit()\n",
    "print \"** Test de Student avec changement de variables (hypothèses : coeff(kidslt6) = coeff(kidsge6)) **\\n\"\n",
    "print 'P_Value : ' +  str(results_log_wage_2.pvalues.kidslt6)"
   ]
  },
  {
   "cell_type": "markdown",
   "metadata": {},
   "source": [
    "*** On obtient bien le même résultat. ***"
   ]
  },
  {
   "cell_type": "markdown",
   "metadata": {},
   "source": [
    "> ### 12.\tEn utilisant le modèle de la question 8, faire le test d'hétéroscédasticité de forme linéaire."
   ]
  },
  {
   "cell_type": "markdown",
   "metadata": {},
   "source": [
    "*** Pour faire un test d'hétéroscédasticité, on procède de la manière suivante : ***\n",
    "- calcul des résidus de régression\n",
    "- régression du carré des résidus sur les variables explicatives du modèle\n",
    "- Test de Fischer sur la nullité conjointe des différents coefficients (homoscédasticité) de cette dernière régression"
   ]
  },
  {
   "cell_type": "code",
   "execution_count": 23,
   "metadata": {
    "collapsed": false
   },
   "outputs": [
    {
     "name": "stdout",
     "output_type": "stream",
     "text": [
      "** Résultat de la régression des résidus **\n",
      "\n",
      "                            OLS Regression Results                            \n",
      "==============================================================================\n",
      "Dep. Variable:                      y   R-squared:                       0.169\n",
      "Model:                            OLS   Adj. R-squared:                  0.158\n",
      "Method:                 Least Squares   F-statistic:                     14.35\n",
      "Date:                Sun, 10 May 2015   Prob (F-statistic):           6.63e-15\n",
      "Time:                        19:08:26   Log-Likelihood:                -623.38\n",
      "No. Observations:                 428   AIC:                             1259.\n",
      "Df Residuals:                     422   BIC:                             1283.\n",
      "Df Model:                           6                                         \n",
      "Covariance Type:            nonrobust                                         \n",
      "==============================================================================\n",
      "                 coef    std err          t      P>|t|      [95.0% Conf. Int.]\n",
      "------------------------------------------------------------------------------\n",
      "city           0.1088      0.109      0.995      0.320        -0.106     0.324\n",
      "educ           0.0399      0.013      3.016      0.003         0.014     0.066\n",
      "exper         -0.0132      0.006     -2.037      0.042        -0.026    -0.000\n",
      "nwifeinc      -0.0031      0.005     -0.601      0.548        -0.013     0.007\n",
      "kidslt6        0.1253      0.133      0.940      0.348        -0.137     0.387\n",
      "kidsge6        0.0502      0.039      1.290      0.198        -0.026     0.127\n",
      "==============================================================================\n",
      "Omnibus:                      453.322   Durbin-Watson:                   1.659\n",
      "Prob(Omnibus):                  0.000   Jarque-Bera (JB):            16555.087\n",
      "Skew:                           4.859   Prob(JB):                         0.00\n",
      "Kurtosis:                      31.877   Cond. No.                         72.9\n",
      "==============================================================================\n",
      "\n",
      "Warnings:\n",
      "[1] Standard Errors assume that the covariance matrix of the errors is correctly specified.\n",
      "\n",
      "*****************************************************************************\n",
      "\n",
      " ** Test d'homoscédasticité (test de Fischer, avec H0 : non-significativité conjointe des différents coefficients de régression) **\n",
      "\n",
      "p-value : 6.62629474959e-15\n"
     ]
    }
   ],
   "source": [
    "# Régression des résidus sur les variables explicatives du modèle\n",
    "u2 = results_log_wage.resid**2\n",
    "X = DF[['city','educ','exper','nwifeinc','kidslt6','kidsge6']]\n",
    "results_log_wage_resid = smf.OLS(u2, X).fit()\n",
    "print('** Résultat de la régression des résidus **\\n')\n",
    "print(results_log_wage_resid.summary())\n",
    "\n",
    "print(\"\\n*****************************************************************************\")\n",
    "print(\"\\n ** Test d'homoscédasticité (test de Fischer, avec H0 : non-significativité conjointe des différents coefficients de régression) **\\n\")\n",
    "Fischer_hypothesis = \"city = educ = exper = nwifeinc = kidslt6 = kidsge6 = 0\"\n",
    "print \"p-value : \" + str(results_log_wage_resid.f_test(Fischer_hypothesis).pvalue)"
   ]
  },
  {
   "cell_type": "markdown",
   "metadata": {
    "collapsed": true
   },
   "source": [
    "*** Commentaires : ***<br>\n",
    "***- La valeur de la p-value (~7.10e-15) obtenue nous permet de rejetter à 5% l'hypothèse d'homoscédasticité.\n",
    "-> Il y a donc hétéroscédasticité ***"
   ]
  },
  {
   "cell_type": "markdown",
   "metadata": {},
   "source": [
    "> ### 12 bis Corriger le problème par rapport à la variable la plus importante en utilisant la méthode des moindres carrés pondérés."
   ]
  },
  {
   "cell_type": "markdown",
   "metadata": {},
   "source": [
    "*** On procède à une correction de l'hétéroscédasticité par rapport à la variable 'educ', qui est celle avec le plus gros poids dans la régression ***"
   ]
  },
  {
   "cell_type": "code",
   "execution_count": 24,
   "metadata": {
    "collapsed": false
   },
   "outputs": [
    {
     "name": "stdout",
     "output_type": "stream",
     "text": [
      "                            OLS Regression Results                            \n",
      "==============================================================================\n",
      "Dep. Variable:                      y   R-squared:                       0.029\n",
      "Model:                            OLS   Adj. R-squared:                  0.015\n",
      "Method:                 Least Squares   F-statistic:                     2.064\n",
      "Date:                Sun, 10 May 2015   Prob (F-statistic):             0.0563\n",
      "Time:                        19:08:26   Log-Likelihood:                 455.20\n",
      "No. Observations:                 428   AIC:                            -896.4\n",
      "Df Residuals:                     421   BIC:                            -868.0\n",
      "Df Model:                           6                                         \n",
      "Covariance Type:            nonrobust                                         \n",
      "==============================================================================\n",
      "                 coef    std err          t      P>|t|      [95.0% Conf. Int.]\n",
      "------------------------------------------------------------------------------\n",
      "const          0.1011      0.051      1.984      0.048         0.001     0.201\n",
      "city           0.0160      0.031      0.521      0.603        -0.044     0.076\n",
      "educ          -0.0147      0.013     -1.109      0.268        -0.041     0.011\n",
      "exper         -0.0046      0.002     -2.338      0.020        -0.008    -0.001\n",
      "nwifeinc      -0.0008      0.002     -0.512      0.609        -0.004     0.002\n",
      "kidslt6        0.0539      0.039      1.385      0.167        -0.023     0.130\n",
      "kidsge6        0.0060      0.012      0.514      0.608        -0.017     0.029\n",
      "==============================================================================\n",
      "Omnibus:                      461.452   Durbin-Watson:                   1.676\n",
      "Prob(Omnibus):                  0.000   Jarque-Bera (JB):            18333.883\n",
      "Skew:                           4.965   Prob(JB):                         0.00\n",
      "Kurtosis:                      33.487   Cond. No.                         101.\n",
      "==============================================================================\n",
      "\n",
      "Warnings:\n",
      "[1] Standard Errors assume that the covariance matrix of the errors is correctly specified.\n"
     ]
    }
   ],
   "source": [
    "# On corrige par rapport à la variable la plus importante (l'éducation)\n",
    "y = np.log(DF['wage'])\n",
    "ys = y/np.sqrt(DF['educ'])\n",
    "\n",
    "Xs = X.copy(deep=True)\n",
    "for col in X.columns:\n",
    "    Xs[col]=Xs[col]/np.sqrt(DF['educ'])\n",
    "Xs = sm.add_constant(Xs)\n",
    "\n",
    "# On calcule le modèle de régression corrigé\n",
    "results_mcp = sm.OLS(ys, Xs).fit()\n",
    "\n",
    "# On vérifie que l'on a bien homoscédasticité pour la variable corrigée\n",
    "## Régression des résidus\n",
    "u = results_mcp.resid\n",
    "results_u2_mcp = sm.OLS(u**2, Xs).fit()\n",
    "\n",
    "print results_u2_mcp.summary()"
   ]
  },
  {
   "cell_type": "markdown",
   "metadata": {},
   "source": [
    "*** On procède à un test d'homoscédasticité pour le modèle corrigé ***"
   ]
  },
  {
   "cell_type": "code",
   "execution_count": 25,
   "metadata": {
    "collapsed": false
   },
   "outputs": [
    {
     "name": "stdout",
     "output_type": "stream",
     "text": [
      "\n",
      " ** Test d'homoscédasticité (test de Fischer, avec H0 : non-significativité conjointe des différents coefficients de régression) **\n",
      "\n",
      "p-value : 0.0563499030991\n"
     ]
    }
   ],
   "source": [
    "print(\"\\n ** Test d'homoscédasticité (test de Fischer, avec H0 : non-significativité conjointe des différents coefficients de régression) **\\n\")\n",
    "Fischer_hypothesis = \"city = educ = exper = nwifeinc = kidslt6 = kidsge6 = 0\"\n",
    "print \"p-value : \"+str(results_u2_mcp.f_test(Fischer_hypothesis).pvalue)"
   ]
  },
  {
   "cell_type": "markdown",
   "metadata": {},
   "source": [
    "*** On peut donc valider à 5% d'erreur, que l'opération a permis de corriger l'hétéroscédasticité du modèle.***"
   ]
  },
  {
   "cell_type": "markdown",
   "metadata": {},
   "source": [
    "> ###13.\tTester le changement de structure de la question 8 entre les femmes qui ont plus de deux enfants de moins de 6 ans et les autres : test sur l'ensemble des coefficients."
   ]
  },
  {
   "cell_type": "markdown",
   "metadata": {},
   "source": [
    "*** Pour tester le changement de structure, on procède de la manière suivante : ***\n",
    "- calcul du modèle sur l'ensemble de la population et obtention de SSR0\n",
    "- calcul d'un modèle sur chacune des deux sous-populations et obtention des SSR associés\n",
    "- test de l'hypothèse H0 selon laquelle SSR0 est égal à la somme des SSR pour les modèles obtenus sur chacune des deux sous-populations"
   ]
  },
  {
   "cell_type": "code",
   "execution_count": 26,
   "metadata": {
    "collapsed": false
   },
   "outputs": [],
   "source": [
    "# On constitue les 2 sous échantillons\n",
    "X = DF[['city','educ','exper','nwifeinc','kidslt6','kidsge6']]\n",
    "y = np.log(DF['wage'])\n",
    "\n",
    "X_more2children = X[X['kidslt6']==2]\n",
    "X_less2children = X[X['kidslt6']<2]\n",
    "X_more2children = sm.add_constant(X_more2children)\n",
    "X_less2children = sm.add_constant(X_less2children)\n",
    "\n",
    "y_more2children = y.ix[X_more2children.index]\n",
    "y_less2children = y.ix[X_less2children.index]"
   ]
  },
  {
   "cell_type": "code",
   "execution_count": 27,
   "metadata": {
    "collapsed": false
   },
   "outputs": [
    {
     "name": "stdout",
     "output_type": "stream",
     "text": [
      "('SSR0 : ', 188.58997319394953)\n",
      "('SSR_more: ', 3.6142564821501457)\n",
      "('SSR_less: ', 184.03286832821183)\n"
     ]
    }
   ],
   "source": [
    "# Calcul les SSR pour chacun des deux sous-échantillons\n",
    "y = y_more2children\n",
    "X = X_more2children\n",
    "\n",
    "SSR0 = results_log_wage.ssr\n",
    "\n",
    "results_more = sm.OLS(y_more2children, X_more2children).fit()\n",
    "SSR_more = results_more.ssr\n",
    "\n",
    "results_less = sm.OLS(y_less2children, X_less2children).fit()\n",
    "SSR_less = results_less.ssr\n",
    "\n",
    "\n",
    "print ('SSR0 : ', SSR0)\n",
    "print('SSR_more: ', SSR_more)\n",
    "print('SSR_less: ', SSR_less)\n"
   ]
  },
  {
   "cell_type": "code",
   "execution_count": 28,
   "metadata": {
    "collapsed": false
   },
   "outputs": [
    {
     "name": "stdout",
     "output_type": "stream",
     "text": [
      "0.00502458209546\n"
     ]
    }
   ],
   "source": [
    "# Statistique de test\n",
    "n = X.shape[0]\n",
    "k = 7\n",
    "t = abs(SSR0 - (SSR_less+SSR_more))/(SSR_less+SSR_more)*(abs(n-2*(k+1))/(k+1))\n",
    "print t"
   ]
  },
  {
   "cell_type": "markdown",
   "metadata": {
    "collapsed": false
   },
   "source": [
    "*** On rejette à 5% l'hypothèse nulle : on peut considérer qu'il y a un changement de structure entre les femmes qui ont plus de deux enfants de moins de 6 ans et les autres ***"
   ]
  },
  {
   "cell_type": "markdown",
   "metadata": {},
   "source": [
    "> ### 14.\tTransformer la variable kidslt6 en variables binaires. Refaire la question 8 avec ces variables en utilisant la catégorie kidslt6 = 1 comme référence. Interprétez les paramètres associés aux variables binaires."
   ]
  },
  {
   "cell_type": "markdown",
   "metadata": {},
   "source": [
    "*** On cherche à étudier l'effet du nombre d'enfants sur le salaire, et en particulier, comparer l'effet d'avoir 0 ou 2 enfants de moins de 6 ans par rapport au fait d'en avoir 1. ***"
   ]
  },
  {
   "cell_type": "code",
   "execution_count": 29,
   "metadata": {
    "collapsed": false
   },
   "outputs": [
    {
     "name": "stdout",
     "output_type": "stream",
     "text": [
      "Intercept   -0.442531\n",
      "city         0.057532\n",
      "educ         0.108190\n",
      "exper        0.014360\n",
      "kidslt6_0    0.062242\n",
      "kidslt6_2   -0.041633\n",
      "kidsge6     -0.010932\n",
      "dtype: float64\n"
     ]
    }
   ],
   "source": [
    "y = np.log(DF['wage'])\n",
    "X = DF[['city','educ','exper','nwifeinc','kidsge6']]\n",
    "X_ = pd.get_dummies(DF['kidslt6'])[[0,2]] # constitution des variables binaires relatives à kidslt6\n",
    "X = pd.concat([y,X,X_],axis = 1)\n",
    "X.columns = [['wage','city','educ','exper','nwifeinc','kidsge6','kidslt6_0','kidslt6_2']]\n",
    "\n",
    "# Régression\n",
    "results = smf.ols('wage ~ city + educ + exper + kidslt6_0 + kidslt6_2 + kidsge6', data=X).fit()\n",
    "print results.params"
   ]
  },
  {
   "cell_type": "markdown",
   "metadata": {},
   "source": [
    "*** On en déduit que : ***\n",
    "- une femme sans enfant gagne en moyenne 6% de plus qu'une femme avec 1 enfant.\n",
    "- une femmet avec 2 enfants gagne en moyenne 4% de moins qu'une femme avec 1 enfant"
   ]
  },
  {
   "cell_type": "markdown",
   "metadata": {},
   "source": [
    "> ### 15.\tA partir de l’échantillon global, faire une régression de inlf sur une constante, city, educ, age, kidslt6, kidsgt6. Commentez le modèle et les résultats des tests de significativité pour chacun des coefficients estimé (test alternatif des deux côtés)"
   ]
  },
  {
   "cell_type": "code",
   "execution_count": 30,
   "metadata": {
    "collapsed": false
   },
   "outputs": [
    {
     "name": "stdout",
     "output_type": "stream",
     "text": [
      "                            OLS Regression Results                            \n",
      "==============================================================================\n",
      "Dep. Variable:                   inlf   R-squared:                       0.124\n",
      "Model:                            OLS   Adj. R-squared:                  0.118\n",
      "Method:                 Least Squares   F-statistic:                     21.20\n",
      "Date:                Sun, 10 May 2015   Prob (F-statistic):           7.29e-20\n",
      "Time:                        19:08:26   Log-Likelihood:                -489.44\n",
      "No. Observations:                 753   AIC:                             990.9\n",
      "Df Residuals:                     747   BIC:                             1019.\n",
      "Df Model:                           5                                         \n",
      "Covariance Type:            nonrobust                                         \n",
      "==============================================================================\n",
      "                 coef    std err          t      P>|t|      [95.0% Conf. Int.]\n",
      "------------------------------------------------------------------------------\n",
      "Intercept      0.7076      0.162      4.365      0.000         0.389     1.026\n",
      "city          -0.0341      0.036     -0.944      0.346        -0.105     0.037\n",
      "educ           0.0434      0.008      5.656      0.000         0.028     0.058\n",
      "age           -0.0130      0.003     -5.081      0.000        -0.018    -0.008\n",
      "kidslt6       -0.3075      0.036     -8.498      0.000        -0.378    -0.236\n",
      "kidsge6       -0.0173      0.014     -1.231      0.219        -0.045     0.010\n",
      "==============================================================================\n",
      "Omnibus:                        7.463   Durbin-Watson:                   0.246\n",
      "Prob(Omnibus):                  0.024   Jarque-Bera (JB):               76.244\n",
      "Skew:                          -0.245   Prob(JB):                     2.78e-17\n",
      "Kurtosis:                       1.520   Cond. No.                         432.\n",
      "==============================================================================\n",
      "\n",
      "Warnings:\n",
      "[1] Standard Errors assume that the covariance matrix of the errors is correctly specified.\n",
      "** coefficients de régression **\n",
      "Intercept    0.707578\n",
      "city        -0.034085\n",
      "educ         0.043410\n",
      "age         -0.013026\n",
      "kidslt6     -0.307467\n",
      "kidsge6     -0.017341\n",
      "dtype: float64\n",
      "\n",
      "** p-valeurs des tests de significativité des coefficients **\n",
      "Intercept    1.451789e-05\n",
      "city         3.455637e-01\n",
      "educ         2.209512e-08\n",
      "age          4.749621e-07\n",
      "kidslt6      1.041439e-16\n",
      "kidsge6      2.188655e-01\n",
      "dtype: float64\n"
     ]
    }
   ],
   "source": [
    "# Fit regression model\n",
    "results = smf.ols('inlf ~ city + educ + age + kidslt6 + kidsge6', data=DF_raw).fit()\n",
    "\n",
    "# Inspect the results\n",
    "print results.summary()\n",
    "print(\"** coefficients de régression **\")\n",
    "print results.params\n",
    "print(\"\\n** p-valeurs des tests de significativité des coefficients **\")\n",
    "print results.pvalues"
   ]
  },
  {
   "cell_type": "markdown",
   "metadata": {
    "collapsed": false
   },
   "source": [
    "***Commentaires : ***<br>\n",
    "<br>\n",
    "***Les p-values des tests de significativité associés à city (0.35) et kidsge6 (0.22) permettent de valider à 5% l'hypothèse de non-significativité de ces variables. Ainsi, le fait d'être sur le marché du travail ne dépend : ***<br>\n",
    "***- ni du fait d'habiter en ville (variable city)***<br>\n",
    "***- ni du nombre d'enfants de plus de 6 ans (kidsge6)***<br>\n",
    "<br>\n",
    "***On note également que le modèle explique une faible partie de la variance des données (12%). D'autres paramètres interviennent donc, avec un impact significatif.***"
   ]
  },
  {
   "cell_type": "markdown",
   "metadata": {},
   "source": [
    "> ### 16.\tDévelopper le modèle probit et obtenir la fonction de log-vraisemblance l(.)."
   ]
  },
  {
   "cell_type": "markdown",
   "metadata": {
    "collapsed": false
   },
   "source": [
    "*** -> Voir photo en pièce jointe ***"
   ]
  },
  {
   "cell_type": "markdown",
   "metadata": {},
   "source": [
    "> #### 17.\tCalculer la matrice d'information E(−∂2l/∂β∂β′) [astuce: E(yi) = p(yi=1)]. Commentez les programmes suivants :"
   ]
  },
  {
   "cell_type": "markdown",
   "metadata": {
    "collapsed": false
   },
   "source": [
    "*** Une formulation formelle matricielle de la matrice d'information est présentée au dans ce document : http://catalogue.polytechnique.fr/Files/amphi91.pdf - page 23 ***\n",
    "\n",
    "*** Les deux fonctions du programme permettent d'ajuster le modèle probit au données, en travaillant de manière itérative (méthode de type Newton-Raphson)***"
   ]
  },
  {
   "cell_type": "markdown",
   "metadata": {},
   "source": [
    "> #### 18.\tPourquoi faut-il imposer une restriction sur les paramètres ?"
   ]
  },
  {
   "cell_type": "markdown",
   "metadata": {
    "collapsed": false
   },
   "source": [
    "*** Il faut imposer des restrictions car il existe souvent plusieurs choix de combinaison des paramètres du modèle multinomial, mais l'exhaustivité des valeurs n'est pas possible. En effet, les choix sur les paramètres sont souvent corrélés. il s'agit donc de s'assurer que l'on trouve une solution plausible au problème. ***"
   ]
  },
  {
   "cell_type": "markdown",
   "metadata": {},
   "source": [
    "> #### 19.\tEstimer le modèle probit de inlf sur une constante, city, educ, age, kidslt6, kidsgt6 en utilisant la commande probit(y,X). "
   ]
  },
  {
   "cell_type": "code",
   "execution_count": 31,
   "metadata": {
    "collapsed": false
   },
   "outputs": [
    {
     "name": "stdout",
     "output_type": "stream",
     "text": [
      "Optimization terminated successfully.\n",
      "         Current function value: 0.617205\n",
      "         Iterations 5\n",
      "                          Probit Regression Results                           \n",
      "==============================================================================\n",
      "Dep. Variable:                   inlf   No. Observations:                  753\n",
      "Model:                         Probit   Df Residuals:                      747\n",
      "Method:                           MLE   Df Model:                            5\n",
      "Date:                Sun, 10 May 2015   Pseudo R-squ.:                 0.09734\n",
      "Time:                        19:08:26   Log-Likelihood:                -464.76\n",
      "converged:                       True   LL-Null:                       -514.87\n",
      "                                        LLR p-value:                 4.714e-20\n",
      "==============================================================================\n",
      "                 coef    std err          z      P>|z|      [95.0% Conf. Int.]\n",
      "------------------------------------------------------------------------------\n",
      "const          0.6050      0.467      1.297      0.195        -0.309     1.520\n",
      "city          -0.0863      0.102     -0.842      0.400        -0.287     0.115\n",
      "educ           0.1234      0.023      5.469      0.000         0.079     0.168\n",
      "age           -0.0375      0.007     -5.008      0.000        -0.052    -0.023\n",
      "kidslt6       -0.8846      0.112     -7.882      0.000        -1.105    -0.665\n",
      "kidsge6       -0.0542      0.040     -1.351      0.177        -0.133     0.024\n",
      "==============================================================================\n",
      "\n",
      " ** coefficients de régression **\n",
      "const      0.605037\n",
      "city      -0.086317\n",
      "educ       0.123400\n",
      "age       -0.037540\n",
      "kidslt6   -0.884639\n",
      "kidsge6   -0.054234\n",
      "dtype: float64\n"
     ]
    }
   ],
   "source": [
    "y = DF_raw['inlf']\n",
    "X = DF_raw[['city','educ','age','kidslt6','kidsge6']]\n",
    "X = sm.add_constant(X)\n",
    "\n",
    "probit_res = sm.Probit(y, X).fit()\n",
    "print probit_res.summary()\n",
    "\n",
    "print(\"\\n ** coefficients de régression **\")\n",
    "print probit_res.params"
   ]
  },
  {
   "cell_type": "markdown",
   "metadata": {},
   "source": [
    "> #### 20.\tCalculer les effets partiels pour l'ensemble des variables explicatives : ∂p(y=1)/∂xk (k = 1, ..., K), où K est le nombre de variables explicatives. Comparer vos résultats à ceux obtenus à la question 15. Commentez."
   ]
  },
  {
   "cell_type": "markdown",
   "metadata": {
    "collapsed": false
   },
   "source": [
    "*** On a : ∂p(y=1)/∂xk = Σ(g(Xi.β)βk (i = 1, ..., n)***\n",
    "\n",
    "*** On calcule les valeurs à l'air des fonctions pakagées de Python ***"
   ]
  },
  {
   "cell_type": "code",
   "execution_count": 32,
   "metadata": {
    "collapsed": false
   },
   "outputs": [
    {
     "name": "stdout",
     "output_type": "stream",
     "text": [
      "\n",
      "Marginal effects: \n",
      "       Probit Marginal Effects       \n",
      "=====================================\n",
      "Dep. Variable:                   inlf\n",
      "Method:                          dydx\n",
      "At:                           overall\n",
      "==============================================================================\n",
      "                dy/dx    std err          z      P>|z|      [95.0% Conf. Int.]\n",
      "------------------------------------------------------------------------------\n",
      "city          -0.0304      0.036     -0.843      0.399        -0.101     0.040\n",
      "educ           0.0435      0.007      5.811      0.000         0.029     0.058\n",
      "age           -0.0132      0.003     -5.264      0.000        -0.018    -0.008\n",
      "kidslt6       -0.3116      0.035     -9.006      0.000        -0.379    -0.244\n",
      "kidsge6       -0.0191      0.014     -1.355      0.175        -0.047     0.009\n",
      "==============================================================================\n"
     ]
    }
   ],
   "source": [
    "print('\\nMarginal effects: ')\n",
    "print probit_res.get_margeff(method='dydx',at='overall').summary()"
   ]
  },
  {
   "cell_type": "markdown",
   "metadata": {},
   "source": [
    "*** On retrouve les conclusions de la question 15 (non-significativité de 'city' et 'kidsge6') ****"
   ]
  }
 ],
 "metadata": {
  "kernelspec": {
   "display_name": "Python 2",
   "language": "python",
   "name": "python2"
  }
 },
 "nbformat": 4,
 "nbformat_minor": 0
}
